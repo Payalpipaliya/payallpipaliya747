{
 "cells": [
  {
   "cell_type": "code",
   "execution_count": 2,
   "id": "ad2dadaa-e875-493b-a1e4-12683d8a3c8c",
   "metadata": {},
   "outputs": [
    {
     "name": "stdout",
     "output_type": "stream",
     "text": [
      "welcome to the pattern Generator and Number analyzer\n",
      "Select and option:\n",
      "1.genrate a pattern\n",
      "2.analyze a range of numbers\n",
      "3. Exit\n"
     ]
    },
    {
     "name": "stdin",
     "output_type": "stream",
     "text": [
      "Enter your choice : 3\n"
     ]
    },
    {
     "name": "stdout",
     "output_type": "stream",
     "text": [
      "Thank you for visit\n"
     ]
    }
   ],
   "source": [
    "# 2. logic box\n",
    "\n",
    "print(\"welcome to the pattern Generator and Number analyzer\")\n",
    "\n",
    "\n",
    "\n",
    "while(True):\n",
    "    print(\"Select and option:\")\n",
    "    print(\"1.genrate a pattern\")\n",
    "    print(\"2.analyze a range of numbers\")\n",
    "    print(\"3. Exit\")\n",
    "    user_choice = int(input(\"Enter your choice :\"))\n",
    "\n",
    "    if user_choice == 3:\n",
    "        print(\"Thank you for visit\")\n",
    "        break\n",
    "\n",
    "    if user_choice == 2:\n",
    "        starting_range = int(input(\"Enter the start number of range:\"))\n",
    "        ending_range = int(input(\"Enter the end number of the range:\"))\n",
    "        sum = 0\n",
    "        for num in range(starting_range, ending_range):\n",
    "            sum = sum+num \n",
    "            if num % 2:\n",
    "                print(f\"Number {num} is odd\")\n",
    "            else:\n",
    "                print(f\"Number {num} is even\")\n",
    "\n",
    "        else:\n",
    "            print(f\"sum of all number from{starting_range} to {ending_range} is: {sum}\")\n",
    "\n",
    "\n",
    "    if user_choice == 1:\n",
    "        n = int(input(\"enter the number of rows for the pattern:\"))\n",
    "        for i in range(1,n +1):\n",
    "            print(\"*\" * i)\n",
    "        print()"
   ]
  },
  {
   "cell_type": "code",
   "execution_count": null,
   "id": "b970c31a-1e5d-44e6-b110-a55351ee2564",
   "metadata": {},
   "outputs": [],
   "source": []
  }
 ],
 "metadata": {
  "kernelspec": {
   "display_name": "Python [conda env:base] *",
   "language": "python",
   "name": "conda-base-py"
  },
  "language_info": {
   "codemirror_mode": {
    "name": "ipython",
    "version": 3
   },
   "file_extension": ".py",
   "mimetype": "text/x-python",
   "name": "python",
   "nbconvert_exporter": "python",
   "pygments_lexer": "ipython3",
   "version": "3.13.5"
  }
 },
 "nbformat": 4,
 "nbformat_minor": 5
}
