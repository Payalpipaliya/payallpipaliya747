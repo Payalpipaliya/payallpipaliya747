{
 "cells": [
  {
   "cell_type": "code",
   "execution_count": null,
   "id": "65d05398-2cf5-43a5-97fe-648384bc0d4c",
   "metadata": {},
   "outputs": [],
   "source": []
  },
  {
   "cell_type": "code",
   "execution_count": null,
   "id": "f4c61cc5-2b72-4c4e-b096-47798c5ce7d4",
   "metadata": {},
   "outputs": [
    {
     "name": "stdout",
     "output_type": "stream",
     "text": [
      "Welcome to the Student information!\n",
      "1. Add Student\n",
      "2. Display Student\n",
      "3. Upadate Student\n",
      "4. Delete Student\n",
      "5. Exit\n"
     ]
    },
    {
     "name": "stdin",
     "output_type": "stream",
     "text": [
      "Enter your choice:  1\n"
     ]
    },
    {
     "name": "stdout",
     "output_type": "stream",
     "text": [
      "\n",
      "--- Add Student ---\n"
     ]
    },
    {
     "name": "stdin",
     "output_type": "stream",
     "text": [
      "Enter student ID number:  1234\n",
      "Enter student name:  payal\n",
      "Enter student age:  21\n",
      "Enter student grade:  a\n",
      "Enter student Date of Birth (DD-MM-YY):  26/9/2003\n",
      "Enter student subjects (separated by commas):  maths,art\n"
     ]
    },
    {
     "name": "stdout",
     "output_type": "stream",
     "text": [
      "Student added successfully.\n",
      "\n",
      "1. Add Student\n",
      "2. Display Student\n",
      "3. Upadate Student\n",
      "4. Delete Student\n",
      "5. Exit\n"
     ]
    },
    {
     "name": "stdin",
     "output_type": "stream",
     "text": [
      "Enter your choice:  2\n"
     ]
    },
    {
     "name": "stdout",
     "output_type": "stream",
     "text": [
      "\n",
      "--- Display All Students ---\n",
      "Student ID: 1234, Name: payal, Date of Birth: 26/9/2003, Age: 21, Grade: a, Subjects: maths, art\n",
      "------------------------------\n",
      "1. Add Student\n",
      "2. Display Student\n",
      "3. Upadate Student\n",
      "4. Delete Student\n",
      "5. Exit\n"
     ]
    },
    {
     "name": "stdin",
     "output_type": "stream",
     "text": [
      "Enter your choice:  3\n"
     ]
    },
    {
     "name": "stdout",
     "output_type": "stream",
     "text": [
      "\n",
      "--- Update Student ---\n"
     ]
    },
    {
     "name": "stdin",
     "output_type": "stream",
     "text": [
      "Enter student ID to update:  5\n"
     ]
    },
    {
     "name": "stdout",
     "output_type": "stream",
     "text": [
      "Student ID not found.\n",
      "\n",
      "1. Add Student\n",
      "2. Display Student\n",
      "3. Upadate Student\n",
      "4. Delete Student\n",
      "5. Exit\n"
     ]
    },
    {
     "name": "stdin",
     "output_type": "stream",
     "text": [
      "Enter your choice:  4\n"
     ]
    },
    {
     "name": "stdout",
     "output_type": "stream",
     "text": [
      "\n",
      "--- Delete Student ---\n"
     ]
    },
    {
     "name": "stdin",
     "output_type": "stream",
     "text": [
      "Enter student ID number to delete:  1234\n"
     ]
    },
    {
     "name": "stdout",
     "output_type": "stream",
     "text": [
      "Student details deleted.\n",
      "\n",
      "1. Add Student\n",
      "2. Display Student\n",
      "3. Upadate Student\n",
      "4. Delete Student\n",
      "5. Exit\n"
     ]
    }
   ],
   "source": [
    "#Collection_manipulator\n",
    "\n",
    "print(\"Welcome to the Student information!\")\n",
    "\n",
    "students_list = []\n",
    "Subjects_set = set()\n",
    "\n",
    "def add_student():\n",
    "    print(\"\\n--- Add Student ---\")\n",
    "    Student_Id = int(input(\"Enter student ID number: \"))\n",
    "    Name = input(\"Enter student name: \")\n",
    "    Age = int(input(\"Enter student age: \"))\n",
    "    Grade = input(\"Enter student grade: \")\n",
    "    Dob = input(\"Enter student Date of Birth (DD-MM-YY): \")\n",
    "    Subjects = input(\"Enter student subjects (separated by commas): \").split(',')\n",
    "\n",
    "    \n",
    "    Subjects = [sub.strip() for sub in Subjects]\n",
    "    for subject in Subjects:\n",
    "        Subjects_set.add(subject)\n",
    "\n",
    "    students_immutable_info = (Student_Id, Dob)\n",
    "\n",
    "    student_information = {\n",
    "        'id': Student_Id,\n",
    "        'name': Name,\n",
    "        'age': Age,\n",
    "        'grade': Grade,\n",
    "        'subjects': Subjects\n",
    "    }\n",
    "\n",
    "    students_list.append({\n",
    "        \"student_id\": students_immutable_info,\n",
    "        \"student_info\": student_information\n",
    "    })\n",
    "\n",
    "    print(\"Student added successfully.\\n\")\n",
    "\n",
    "def display_student():\n",
    "    print(\"\\n--- Display All Students ---\")\n",
    "    if not students_list:\n",
    "        print(\"No student info found.\\n\")\n",
    "        return\n",
    "\n",
    "    for student in students_list:\n",
    "        student_id, Dob = student[\"student_id\"]\n",
    "        info = student[\"student_info\"]\n",
    "   \n",
    "        print(f\"Student ID: {student_id}, Name: {info['name']}, Date of Birth: {Dob}, Age: {info['age']}, Grade: {info['grade']}, Subjects: {', '.join(info['subjects'])}\")\n",
    "\n",
    "        print(\"-\" * 30)\n",
    "\n",
    "def update_student():\n",
    "    print(\"\\n--- Update Student ---\")\n",
    "    student_id = int(input(\"Enter student ID to update: \"))\n",
    "\n",
    "    for student in students_list:\n",
    "        if student[\"student_id\"][0] == student_id:\n",
    "           \n",
    "            dob = student[\"student_id\"][1]\n",
    "            info = student[\"student_info\"]\n",
    "\n",
    "            print(f\"\\nCurrent info - Name: {info['name']}, DOB: {dob}, Age: {info['age']}, Grade: {info['grade']}, Subjects: {', '.join(info['subjects'])}\")\n",
    "            print(\"What do you want to update?\")\n",
    "            print(\"Options: name, dob, age, grade, subjects\")\n",
    "            choice = input(\"Enter your choice: \").strip().lower()\n",
    "\n",
    "            if choice == 'name':\n",
    "                new_name = input(\"Enter new name: \")\n",
    "                info['name'] = new_name\n",
    "                print(\"Name updated successfully!\\n\")\n",
    "\n",
    "            elif choice == 'dob':\n",
    "                new_dob = input(\"Enter new Date of Birth (DD-MM-YY): \")\n",
    "                student[\"student_id\"] = (student[\"student_id\"][0], new_dob)\n",
    "                print(\"DOB updated successfully!\\n\")\n",
    "\n",
    "            elif choice == 'age':\n",
    "                new_age = int(input(\"Enter new age: \"))\n",
    "                info['age'] = new_age\n",
    "                print(\"Age updated successfully!\\n\")\n",
    "\n",
    "            elif choice == 'grade':\n",
    "                new_grade = input(\"Enter new grade: \")\n",
    "                info['grade'] = new_grade\n",
    "                print(\"Grade updated successfully!\\n\")\n",
    "\n",
    "            elif choice == 'subjects':\n",
    "                new_subjects = input(\"Enter new subjects (comma-separated): \").split(\",\")\n",
    "                info['subjects'] = [s.strip() for s in new_subjects]\n",
    "                for subject in info['subjects']:\n",
    "                    Subjects_set.add(subject)\n",
    "                print(\"Subjects updated successfully!\\n\")\n",
    "\n",
    "            else:\n",
    "                print(\"Invalid option! Please select a valid field to update.\\n\")\n",
    "            break\n",
    "    else:\n",
    "        print(\"Student ID not found.\\n\")\n",
    "    \n",
    "\n",
    "\n",
    "def del_student():\n",
    "    print(\"\\n--- Delete Student ---\")\n",
    "    student_id = int(input(\"Enter student ID number to delete: \"))\n",
    "    for student in students_list:\n",
    "        if student['student_id'][0] == student_id:\n",
    "            students_list.remove(student)\n",
    "            print(\"Student details deleted.\\n\")\n",
    "            break\n",
    "    else:\n",
    "        print(\"Student ID not found.\\n\")\n",
    "\n",
    "while True:\n",
    "    print(\"1. Add Student\")\n",
    "    print(\"2. Display Student\")\n",
    "    print(\"3. Upadate Student\")\n",
    "    print(\"4. Delete Student\")\n",
    "    print(\"5. Exit\")\n",
    "\n",
    "    choice = input(\"Enter your choice: \")\n",
    "    if choice == \"1\":\n",
    "        add_student()\n",
    "    elif choice == \"2\":\n",
    "        display_student()\n",
    "    elif choice == \"3\":\n",
    "        update_student()\n",
    "    elif choice == \"4\":\n",
    "        del_student()    \n",
    "    elif choice == \"5\":\n",
    "        print(\"Exiting\")\n",
    "        break\n",
    "    else:\n",
    "        print(\"Invalid.\\n\")"
   ]
  }
 ],
 "metadata": {
  "kernelspec": {
   "display_name": "Python [conda env:base] *",
   "language": "python",
   "name": "conda-base-py"
  },
  "language_info": {
   "codemirror_mode": {
    "name": "ipython",
    "version": 3
   },
   "file_extension": ".py",
   "mimetype": "text/x-python",
   "name": "python",
   "nbconvert_exporter": "python",
   "pygments_lexer": "ipython3",
   "version": "3.13.5"
  }
 },
 "nbformat": 4,
 "nbformat_minor": 5
}
